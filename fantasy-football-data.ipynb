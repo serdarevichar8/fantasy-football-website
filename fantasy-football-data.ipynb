{
 "cells": [
  {
   "cell_type": "code",
   "execution_count": 1,
   "id": "56772527-1fd8-4afb-a088-ccef147500b2",
   "metadata": {},
   "outputs": [],
   "source": [
    "from espn_api.football import League"
   ]
  },
  {
   "cell_type": "code",
   "execution_count": 2,
   "id": "4a23c078-7db4-48af-b1ae-d33cedb07ef6",
   "metadata": {},
   "outputs": [],
   "source": [
    "league_id = 565994\n",
    "espn_s2 = None\n",
    "swid = None\n",
    "\n",
    "league = League(league_id=league_id, year=2024, espn_s2=espn_s2, swid=swid)"
   ]
  },
  {
   "cell_type": "code",
   "execution_count": 15,
   "id": "c66d7349-9422-479c-b4d3-b4e7006740b9",
   "metadata": {},
   "outputs": [],
   "source": [
    "weeks = [league.box_scores(week=i) for i in range(1,15)]"
   ]
  },
  {
   "cell_type": "code",
   "execution_count": 19,
   "id": "6a9a189d-7b80-4bea-80fe-6a30f00a2dfe",
   "metadata": {},
   "outputs": [
    {
     "data": {
      "text/plain": [
       "[Box Score(Team(Pukie Bear) at Team(Bed Bath and Bijan)),\n",
       " Box Score(Team(Josh is my love ) at Team(Tank Bowl)),\n",
       " Box Score(Team(McBridesmaids) at Team(My Diggs is Kittle)),\n",
       " Box Score(Team(Ambulance Chaser) at Team(i like the cowboys)),\n",
       " Box Score(Team(Nabers in Paris) at Team(Rubbin on her Koo)),\n",
       " Box Score(Team(True Grit) at Team(Michaels Avg. Team))]"
      ]
     },
     "execution_count": 19,
     "metadata": {},
     "output_type": "execute_result"
    }
   ],
   "source": [
    "weeks[0]"
   ]
  },
  {
   "cell_type": "code",
   "execution_count": null,
   "id": "e7a4ae4f-1821-4734-9de8-b7ef364a5893",
   "metadata": {},
   "outputs": [],
   "source": []
  }
 ],
 "metadata": {
  "kernelspec": {
   "display_name": "Python 3 (ipykernel)",
   "language": "python",
   "name": "python3"
  },
  "language_info": {
   "codemirror_mode": {
    "name": "ipython",
    "version": 3
   },
   "file_extension": ".py",
   "mimetype": "text/x-python",
   "name": "python",
   "nbconvert_exporter": "python",
   "pygments_lexer": "ipython3",
   "version": "3.11.7"
  }
 },
 "nbformat": 4,
 "nbformat_minor": 5
}
