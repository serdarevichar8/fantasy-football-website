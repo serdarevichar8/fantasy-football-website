{
 "cells": [
  {
   "cell_type": "markdown",
   "id": "ecfa6744",
   "metadata": {},
   "source": [
    "# Import Statements"
   ]
  },
  {
   "cell_type": "code",
   "execution_count": 1,
   "id": "56772527-1fd8-4afb-a088-ccef147500b2",
   "metadata": {},
   "outputs": [],
   "source": [
    "import pandas as pd\n",
    "import numpy as np\n",
    "import sqlite3\n",
    "from matplotlib import pyplot as plt\n",
    "import dominate\n",
    "from dominate.tags import *\n",
    "import espn_api.football\n",
    "from espn_api.football import League, Player\n",
    "import time\n",
    "import pickle\n",
    "import uuid\n",
    "import drawsvg as draw\n",
    "\n",
    "from python import constants, functions"
   ]
  },
  {
   "cell_type": "markdown",
   "id": "5bcc8730",
   "metadata": {},
   "source": [
    "# Testing and Debugging"
   ]
  },
  {
   "cell_type": "code",
   "execution_count": 3,
   "id": "7a69acd7",
   "metadata": {},
   "outputs": [],
   "source": [
    "league = League(league_id=constants.LEAGUE_ID, year=2023, espn_s2=constants.ESPN_S2, swid=constants.SWID)"
   ]
  },
  {
   "cell_type": "code",
   "execution_count": 62,
   "id": "baa6fa50",
   "metadata": {},
   "outputs": [
    {
     "data": {
      "text/plain": [
       "{'player_name': 'Tony Pollard', 'position': 'RB', 'pro_team': 'TEN'}"
      ]
     },
     "execution_count": 62,
     "metadata": {},
     "output_type": "execute_result"
    }
   ],
   "source": [
    "players = league.espn_request.get_pro_players()\n",
    "\n",
    "players = players[281]\n",
    "p = {\n",
    "    'player_name':players['fullName'],\n",
    "    'position':espn_api.football.constant.POSITION_MAP[players['defaultPositionId']],\n",
    "    'pro_team':espn_api.football.constant.PRO_TEAM_MAP[players['proTeamId']]\n",
    "}\n",
    "\n",
    "p"
   ]
  },
  {
   "cell_type": "code",
   "execution_count": 61,
   "id": "59157239",
   "metadata": {},
   "outputs": [
    {
     "name": "stdout",
     "output_type": "stream",
     "text": [
      "281\n"
     ]
    }
   ],
   "source": [
    "for i in range(len(players)):\n",
    "    if players[i]['fullName'] == 'Tony Pollard':\n",
    "        print(i)\n"
   ]
  },
  {
   "cell_type": "code",
   "execution_count": 38,
   "id": "ef06a11f",
   "metadata": {},
   "outputs": [
    {
     "name": "stdout",
     "output_type": "stream",
     "text": [
      "[0.11538461538461539, 0.23076923076923078, 0.34615384615384615]\n"
     ]
    },
    {
     "ename": "TypeError",
     "evalue": "expected an even number of positional arguments x0, y0, x1, y1, ...",
     "output_type": "error",
     "traceback": [
      "\u001b[31m---------------------------------------------------------------------------\u001b[39m",
      "\u001b[31mTypeError\u001b[39m                                 Traceback (most recent call last)",
      "\u001b[36mCell\u001b[39m\u001b[36m \u001b[39m\u001b[32mIn[38]\u001b[39m\u001b[32m, line 19\u001b[39m\n\u001b[32m     17\u001b[39m \u001b[38;5;66;03m# points = [c for xy in zip(X, Y) for c in xy]\u001b[39;00m\n\u001b[32m     18\u001b[39m points = [z \u001b[38;5;28;01mfor\u001b[39;00m z \u001b[38;5;129;01min\u001b[39;00m \u001b[38;5;28mzip\u001b[39m(X,Y)]\n\u001b[32m---> \u001b[39m\u001b[32m19\u001b[39m d.append(\u001b[43mdraw\u001b[49m\u001b[43m.\u001b[49m\u001b[43mLines\u001b[49m\u001b[43m(\u001b[49m\u001b[43m*\u001b[49m\u001b[43mpoints\u001b[49m\u001b[43m,\u001b[49m\u001b[43m \u001b[49m\u001b[43mfill\u001b[49m\u001b[43m=\u001b[49m\u001b[33;43m'\u001b[39;49m\u001b[33;43mnone\u001b[39;49m\u001b[33;43m'\u001b[39;49m\u001b[43m,\u001b[49m\u001b[43m \u001b[49m\u001b[43mstroke\u001b[49m\u001b[43m=\u001b[49m\u001b[33;43m'\u001b[39;49m\u001b[33;43mblack\u001b[39;49m\u001b[33;43m'\u001b[39;49m\u001b[43m)\u001b[49m)\n\u001b[32m     21\u001b[39m d.display_image()\n",
      "\u001b[36mFile \u001b[39m\u001b[32m/Library/Frameworks/Python.framework/Versions/3.12/lib/python3.12/site-packages/drawsvg/elements.py:574\u001b[39m, in \u001b[36mLines.__init__\u001b[39m\u001b[34m(self, sx, sy, close, *points, **kwargs)\u001b[39m\n\u001b[32m    572\u001b[39m \u001b[38;5;28mself\u001b[39m.M(sx, sy)\n\u001b[32m    573\u001b[39m \u001b[38;5;28;01mif\u001b[39;00m \u001b[38;5;28mlen\u001b[39m(points) % \u001b[32m2\u001b[39m != \u001b[32m0\u001b[39m:\n\u001b[32m--> \u001b[39m\u001b[32m574\u001b[39m     \u001b[38;5;28;01mraise\u001b[39;00m \u001b[38;5;167;01mTypeError\u001b[39;00m(\n\u001b[32m    575\u001b[39m             \u001b[33m'\u001b[39m\u001b[33mexpected an even number of positional arguments x0, y0, \u001b[39m\u001b[33m'\u001b[39m\n\u001b[32m    576\u001b[39m             \u001b[33m'\u001b[39m\u001b[33mx1, y1, ...\u001b[39m\u001b[33m'\u001b[39m)\n\u001b[32m    577\u001b[39m \u001b[38;5;28;01mfor\u001b[39;00m i \u001b[38;5;129;01min\u001b[39;00m \u001b[38;5;28mrange\u001b[39m(\u001b[38;5;28mlen\u001b[39m(points) // \u001b[32m2\u001b[39m):\n\u001b[32m    578\u001b[39m     \u001b[38;5;28mself\u001b[39m.L(points[\u001b[32m2\u001b[39m*i], points[\u001b[32m2\u001b[39m*i+\u001b[32m1\u001b[39m])\n",
      "\u001b[31mTypeError\u001b[39m: expected an even number of positional arguments x0, y0, x1, y1, ..."
     ]
    }
   ],
   "source": [
    "X = [30,60,90]\n",
    "Y = [100,120,135]\n",
    "\n",
    "width = 300\n",
    "height = 150\n",
    "\n",
    "d = draw.Drawing(width=width, height=height)\n",
    "\n",
    "margin_lr, margin_tb = 20, 30\n",
    "\n",
    "plot_width = width - (2*margin_lr)\n",
    "plot_height = height - (2*margin_tb)\n",
    "\n",
    "X_scaled = [x / plot_width for x in X]\n",
    "print(X_scaled)\n",
    "\n",
    "# points = [c for xy in zip(X, Y) for c in xy]\n",
    "points = [z for z in zip(X,Y)]\n",
    "d.append(draw.Lines(*points, fill='none', stroke='black'))\n",
    "\n",
    "d.display_image()"
   ]
  },
  {
   "cell_type": "code",
   "execution_count": null,
   "id": "ddf2a03e",
   "metadata": {},
   "outputs": [
    {
     "name": "stdout",
     "output_type": "stream",
     "text": [
      "(30, 100) (60, 120) (90, 135)\n"
     ]
    }
   ],
   "source": [
    "Z = [z for z in zip(X,Y)]\n"
   ]
  },
  {
   "cell_type": "code",
   "execution_count": 20,
   "id": "1731a452",
   "metadata": {},
   "outputs": [
    {
     "data": {
      "text/html": [
       "<div>\n",
       "<style scoped>\n",
       "    .dataframe tbody tr th:only-of-type {\n",
       "        vertical-align: middle;\n",
       "    }\n",
       "\n",
       "    .dataframe tbody tr th {\n",
       "        vertical-align: top;\n",
       "    }\n",
       "\n",
       "    .dataframe thead th {\n",
       "        text-align: right;\n",
       "    }\n",
       "</style>\n",
       "<table border=\"1\" class=\"dataframe\">\n",
       "  <thead>\n",
       "    <tr style=\"text-align: right;\">\n",
       "      <th></th>\n",
       "      <th>Year</th>\n",
       "      <th>Team</th>\n",
       "      <th>Record</th>\n",
       "      <th>Ranking</th>\n",
       "      <th>Points For</th>\n",
       "      <th>Points Against</th>\n",
       "      <th>Avg Points For</th>\n",
       "      <th>Avg Margin</th>\n",
       "      <th>Luck Score</th>\n",
       "    </tr>\n",
       "  </thead>\n",
       "  <tbody>\n",
       "    <tr>\n",
       "      <th>0</th>\n",
       "      <td>2023</td>\n",
       "      <td>Haris</td>\n",
       "      <td>12-2</td>\n",
       "      <td>1</td>\n",
       "      <td>1801.34</td>\n",
       "      <td>1456.3</td>\n",
       "      <td>128.67</td>\n",
       "      <td>24.65</td>\n",
       "      <td>10</td>\n",
       "    </tr>\n",
       "  </tbody>\n",
       "</table>\n",
       "</div>"
      ],
      "text/plain": [
       "   Year   Team Record  Ranking  Points For  Points Against  Avg Points For  \\\n",
       "0  2023  Haris   12-2        1     1801.34          1456.3          128.67   \n",
       "\n",
       "   Avg Margin  Luck Score  \n",
       "0       24.65          10  "
      ]
     },
     "execution_count": 20,
     "metadata": {},
     "output_type": "execute_result"
    }
   ],
   "source": [
    "year = 2023\n",
    "data = constants.GAME_DATA.loc[constants.GAME_DATA['Year'] == year].copy()\n",
    "champion = data.loc[(data['Week'] == data['Week'].max()) & (data['Win'] == 1), 'Team'].item()\n",
    "\n",
    "champ_data = functions.summary_table(data=data, year=year)\n",
    "champ_data.loc[champ_data['Team'] == champion]"
   ]
  },
  {
   "cell_type": "code",
   "execution_count": null,
   "id": "7d55ed66",
   "metadata": {},
   "outputs": [
    {
     "name": "stdout",
     "output_type": "stream",
     "text": [
      "champ: Dante + year: 2018\n",
      "champ: Dante + year: 2019\n",
      "champ: Ethan + year: 2020\n",
      "champ: Andrew + year: 2021\n",
      "champ: Dante + year: 2022\n",
      "champ: Haris + year: 2023\n",
      "champ: Zach + year: 2024\n"
     ]
    }
   ],
   "source": [
    "champions = []\n",
    "for year in constants.YEARS:\n",
    "    data = constants.GAME_DATA.loc[constants.GAME_DATA['Year'] == year].copy()\n",
    "    champion = data.loc[(data['Week'] == data['Week'].max()) & (data['Win'] == 1), 'Team'].item()\n",
    "    data = functions.summary_table(data=data, year=year).loc[]"
   ]
  },
  {
   "cell_type": "code",
   "execution_count": null,
   "id": "ddae1a01",
   "metadata": {},
   "outputs": [
    {
     "data": {
      "text/plain": [
       "array([[2021, 'Andrew'],\n",
       "       [2022, 'Dante'],\n",
       "       [2023, 'Haris'],\n",
       "       [2024, 'Zach']], dtype=object)"
      ]
     },
     "execution_count": 8,
     "metadata": {},
     "output_type": "execute_result"
    }
   ],
   "source": [
    "'''\n",
    "Function which creates the champion page content\n",
    "\n",
    "Includes:\n",
    "---------\n",
    "* Summary Table for each season\n",
    "* List of all Champions\n",
    "'''\n",
    "container = div(_class='content')\n",
    "container.add(h1('League Champions'))\n",
    "\n",
    "champions = constants.GAME_DATA.loc[(constants.GAME_DATA['Week'] == 17) & (constants.GAME_DATA['Win'] == 1), ['Year','Team']].values\n",
    "data = []\n",
    "for year, team in champions:\n",
    "    temp = constants.GAME_DATA.loc[(constants.GAME_DATA['Year'] == year) & (constants.GAME_DATA['Team'] == team) & (constants.GAME_DATA['Playoff Flag'] == False)]\n",
    "    wins = temp['Win'].sum()\n",
    "    losses = len(temp) - wins\n",
    "    record = f'{wins}-{losses}'\n",
    "\n",
    "    pf = round(temp['Score'].sum(), 2)\n",
    "    avg_pf = round(pf / len(temp), 2)\n",
    "    pa = round(temp['Opp Score'].sum(), 2)\n",
    "    avg_margin = round((pf - pa) / len(temp), 2)\n",
    "\n",
    "    data.append([year, team, record, pf, avg_pf, avg_margin])\n",
    "\n",
    "t = pd.DataFrame(data, columns=['Year','Team','Record','Points For','Avg Points For','Avg Margin'])\n",
    "\n",
    "summary_div = functions.content_container(title='Champions Summary', content=functions.df_to_table(data=t, table_id='champion-summary-table'))\n",
    "\n",
    "# summary_div = div(_class='content-container')\n",
    "# summary_title = h2('Champions Summary')\n",
    "# summary_table = functions.df_to_table(data=t)\n",
    "# summary_table['id'] = 'champion-summary-table'\n",
    "# summary_div.add([summary_title, summary_table])\n",
    "\n",
    "years_div = div(_class='champion-years')\n",
    "for year, team in champions:\n",
    "    years_div.add(h3(f'{year} Season'))\n",
    "    years_div.add(p(team))\n",
    "\n",
    "container.add(summary_div)\n",
    "container.add(years_div)\n",
    "\n",
    "champions\n",
    "# print(container.render())"
   ]
  },
  {
   "cell_type": "code",
   "execution_count": null,
   "id": "be293257",
   "metadata": {},
   "outputs": [],
   "source": [
    "def summary_table(data: pd.DataFrame, year: int, week: int = None, averages: bool = False) -> pd.DataFrame:\n",
    "    temp = data.loc[(data['Year'] == year) & (data['Playoff Flag'] == False)].copy()\n",
    "\n",
    "    if week != None:\n",
    "        temp = temp.loc[(data['Week'] <= week)]\n",
    "\n",
    "    mean = temp['Score'].mean()\n",
    "    std = temp['Score'].std() * 0.5\n",
    "\n",
    "    opp_luck = []\n",
    "    your_luck = []\n",
    "    close_luck = []\n",
    "\n",
    "    for your_score, opp_score in temp[['Score','Opp Score']].values:\n",
    "        opp_luck.append(functions.opp_luck_score(opp_score=opp_score, mean=mean, std=std))\n",
    "        your_luck.append(functions.your_luck_score(your_score=your_score, opp_score=opp_score, mean=mean, std=std))\n",
    "        close_luck.append(functions.close_luck_score(your_score=your_score, opp_score=opp_score))\n",
    "\n",
    "    temp['Opp Luck Score'] = opp_luck\n",
    "    temp['Your Luck Score'] = your_luck\n",
    "    temp['Close Luck Score'] = close_luck\n",
    "\n",
    "    temp['Luck Score'] = temp[['Opp Luck Score','Your Luck Score','Close Luck Score']].sum(axis=1)\n",
    "\n",
    "    temp_teams = temp['Team'].unique()\n",
    "    weekly_standings = []\n",
    "\n",
    "    for team in temp_teams:\n",
    "        temp_team = temp.loc[temp['Team'] == team]\n",
    "        wins = temp_team['Win'].sum()\n",
    "        losses = temp_team['Win'].eq(0).sum()\n",
    "        record = f'{wins}-{losses}'\n",
    "\n",
    "        pf = round(temp_team['Score'].sum(), 2)\n",
    "        avg_pf = round(pf / len(temp_team), 2)\n",
    "        pa = round(temp_team['Opp Score'].sum(), 2)\n",
    "        avg_margin = round((pf - pa) / len(temp_team), 2)\n",
    "        luck_score = temp_team['Luck Score'].sum()\n",
    "\n",
    "        weekly_standings.append(\n",
    "            {\n",
    "                'Team':team,\n",
    "                'Wins':wins,\n",
    "                'Record':record,\n",
    "                'Points For':pf,\n",
    "                'Points Against':pa,\n",
    "                'Avg Points For':avg_pf,\n",
    "                'Avg Margin':avg_margin,\n",
    "                'Luck Score':luck_score\n",
    "            }\n",
    "        )\n",
    "        # weekly_standings.append([team, wins, record, pf, pa, avg_pf, avg_margin, luck_score])\n",
    "\n",
    "    \n",
    "\n",
    "    # weekly_standings = pd.DataFrame(weekly_standings, columns=['Team','Wins','Record', 'Points For','Points Against','Avg Points For','Avg Margin','Luck Score'])\n",
    "    weekly_standings = pd.DataFrame(weekly_standings)\n",
    "    weekly_standings.sort_values(['Wins','Points For'], ascending=False, ignore_index=True, inplace=True)\n",
    "    weekly_standings['Ranking'] = [i + 1 for i in weekly_standings.index]\n",
    "    weekly_standings['Year'] = year\n",
    "    weekly_standings = weekly_standings[['Year','Team','Record','Ranking','Points For','Points Against','Avg Points For','Avg Margin','Luck Score']]\n",
    "\n",
    "    if averages:\n",
    "        pf = round(temp['Score'].sum() / len(temp_teams), 2)\n",
    "        pa = round(temp['Opp Score'].sum() / len(temp_teams), 2)\n",
    "        luck_score = weekly_standings['Luck Score'].mean()\n",
    "\n",
    "        avg_row = {\n",
    "                'Year':'',\n",
    "                'Team':'',\n",
    "                'Record':'',\n",
    "                'Ranking':'',\n",
    "                'Points For':pf,\n",
    "                'Points Against':pa,\n",
    "                'Avg Points For':'',\n",
    "                'Avg Margin':'',\n",
    "                'Luck Score':''\n",
    "        }\n",
    "        weekly_standings.loc['Averages'] = avg_row\n",
    "\n",
    "    return weekly_standings"
   ]
  },
  {
   "cell_type": "code",
   "execution_count": 17,
   "id": "1d58199a",
   "metadata": {},
   "outputs": [
    {
     "data": {
      "text/html": [
       "<div>\n",
       "<style scoped>\n",
       "    .dataframe tbody tr th:only-of-type {\n",
       "        vertical-align: middle;\n",
       "    }\n",
       "\n",
       "    .dataframe tbody tr th {\n",
       "        vertical-align: top;\n",
       "    }\n",
       "\n",
       "    .dataframe thead th {\n",
       "        text-align: right;\n",
       "    }\n",
       "</style>\n",
       "<table border=\"1\" class=\"dataframe\">\n",
       "  <thead>\n",
       "    <tr style=\"text-align: right;\">\n",
       "      <th></th>\n",
       "      <th>year</th>\n",
       "      <th>champion</th>\n",
       "    </tr>\n",
       "  </thead>\n",
       "  <tbody>\n",
       "    <tr>\n",
       "      <th>0</th>\n",
       "      <td>2018</td>\n",
       "      <td>Dante</td>\n",
       "    </tr>\n",
       "    <tr>\n",
       "      <th>1</th>\n",
       "      <td>2019</td>\n",
       "      <td>Dante</td>\n",
       "    </tr>\n",
       "    <tr>\n",
       "      <th>2</th>\n",
       "      <td>2020</td>\n",
       "      <td>Ethan</td>\n",
       "    </tr>\n",
       "    <tr>\n",
       "      <th>3</th>\n",
       "      <td>2021</td>\n",
       "      <td>Andrew</td>\n",
       "    </tr>\n",
       "    <tr>\n",
       "      <th>4</th>\n",
       "      <td>2022</td>\n",
       "      <td>Dante</td>\n",
       "    </tr>\n",
       "    <tr>\n",
       "      <th>5</th>\n",
       "      <td>2023</td>\n",
       "      <td>Haris</td>\n",
       "    </tr>\n",
       "    <tr>\n",
       "      <th>6</th>\n",
       "      <td>2024</td>\n",
       "      <td>Zach</td>\n",
       "    </tr>\n",
       "  </tbody>\n",
       "</table>\n",
       "</div>"
      ],
      "text/plain": [
       "   year champion\n",
       "0  2018    Dante\n",
       "1  2019    Dante\n",
       "2  2020    Ethan\n",
       "3  2021   Andrew\n",
       "4  2022    Dante\n",
       "5  2023    Haris\n",
       "6  2024     Zach"
      ]
     },
     "execution_count": 17,
     "metadata": {},
     "output_type": "execute_result"
    }
   ],
   "source": [
    "data = constants.GAME_DATA.copy()\n",
    "data_champs = []\n",
    "\n",
    "for year in constants.YEARS:\n",
    "    champ_week = data.loc[data['Year'] == year, 'Week'].max()\n",
    "\n",
    "    champ = data.loc[(data['Year'] == year) & (data['Week'] == champ_week) & (data['Win'] == 1), 'Team'].item()\n",
    "\n",
    "    data_champs.append(\n",
    "        {\n",
    "            'year':year,\n",
    "            'champion':champ\n",
    "        }\n",
    "    )\n",
    "\n",
    "data_champs\n",
    "\n",
    "pd.DataFrame(data_champs)"
   ]
  },
  {
   "cell_type": "code",
   "execution_count": 2,
   "id": "d65da3a8",
   "metadata": {},
   "outputs": [],
   "source": [
    "def summary_table(data: pd.DataFrame, year: int, week: int = None) -> pd.DataFrame:\n",
    "    temp = data.loc[(data['Year'] == year) & (data['Playoff Flag'] == False)].copy()\n",
    "\n",
    "    if week != None:\n",
    "        temp = temp.loc[(data['Week'] <= week)]\n",
    "\n",
    "    mean = temp['Score'].mean()\n",
    "    std = temp['Score'].std() * 0.5\n",
    "\n",
    "    opp_luck = []\n",
    "    your_luck = []\n",
    "    close_luck = []\n",
    "\n",
    "    for your_score, opp_score in temp[['Score','Opp Score']].values:\n",
    "        opp_luck.append(functions.opp_luck_score(opp_score=opp_score, mean=mean, std=std))\n",
    "        your_luck.append(functions.your_luck_score(your_score=your_score, opp_score=opp_score, mean=mean, std=std))\n",
    "        close_luck.append(functions.close_luck_score(your_score=your_score, opp_score=opp_score))\n",
    "\n",
    "    temp['Opp Luck Score'] = opp_luck\n",
    "    temp['Your Luck Score'] = your_luck\n",
    "    temp['Close Luck Score'] = close_luck\n",
    "\n",
    "    temp['Luck Score'] = temp[['Opp Luck Score','Your Luck Score','Close Luck Score']].sum(axis=1)\n",
    "\n",
    "    champ_week = data.loc[data['Year'] == year, 'Week'].max()\n",
    "    champ = data.loc[(data['Year'] == year) & (data['Week'] == champ_week) & (data['Win'] == 1), 'Team'].item()\n",
    "\n",
    "    temp_teams = temp['Team'].unique()\n",
    "    weekly_standings = []\n",
    "\n",
    "    for team in temp_teams:\n",
    "        temp_team = temp.loc[temp['Team'] == team]\n",
    "        wins = temp_team['Win'].sum()\n",
    "        losses = temp_team['Win'].eq(0).sum()\n",
    "        record = f'{wins}-{losses}'\n",
    "\n",
    "        pf = round(temp_team['Score'].sum(), 2)\n",
    "        avg_pf = round(pf / len(temp_team), 2)\n",
    "        pa = round(temp_team['Opp Score'].sum(), 2)\n",
    "        avg_margin = round((pf - pa) / len(temp_team), 2)\n",
    "        luck_score = temp_team['Luck Score'].sum()\n",
    "        \n",
    "        champ_flag = int(champ == team)\n",
    "\n",
    "        weekly_standings.append([team, wins, record, pf, pa, avg_pf, avg_margin, luck_score, champ_flag])\n",
    "\n",
    "    weekly_standings = pd.DataFrame(weekly_standings, columns=['Team','Wins','Record', 'Points For','Points Against','Avg Points For','Avg Margin','Luck Score', 'Champ Flag'])\n",
    "    weekly_standings.sort_values(['Wins','Points For'], ascending=False, ignore_index=True, inplace=True)\n",
    "    weekly_standings['Ranking'] = [i + 1 for i in weekly_standings.index]\n",
    "    weekly_standings['Year'] = year\n",
    "    weekly_standings = weekly_standings[['Year','Team','Record','Ranking','Points For','Points Against','Avg Points For','Avg Margin','Luck Score', 'Champ Flag']]\n",
    "\n",
    "    return weekly_standings"
   ]
  },
  {
   "cell_type": "code",
   "execution_count": 2,
   "id": "c3b6fbd3",
   "metadata": {},
   "outputs": [
    {
     "name": "stdout",
     "output_type": "stream",
     "text": [
      "<table>\n",
      "  <thead>\n",
      "    <tr>\n",
      "      <th class=\"year\">Year</th>\n",
      "      <th class=\"team\">Team</th>\n",
      "      <th class=\"record\">Record</th>\n",
      "      <th class=\"points-for\">Points For</th>\n",
      "      <th class=\"points-against\">Points Against</th>\n",
      "      <th class=\"avg-points-for\">Avg Points For</th>\n",
      "      <th class=\"avg-margin\">Avg Margin</th>\n",
      "      <th class=\"luck-score\">Luck Score</th>\n",
      "    </tr>\n",
      "  </thead>\n",
      "  <tbody>\n",
      "    <tr><td class=\"year\">2024</td><td class=\"team\">Kevin</td><td class=\"record\">11-3</td><td class=\"points-for\">1777.24</td><td class=\"points-against\">1568.64</td><td class=\"avg-points-for\">126.95</td><td class=\"avg-margin\">14.9</td><td class=\"luck-score\">5</td></tr>\n",
      "    <tr><td class=\"year\">2024</td><td class=\"team\">Andrew</td><td class=\"record\">10-4</td><td class=\"points-for\">1873.18</td><td class=\"points-against\">1681.98</td><td class=\"avg-points-for\">133.8</td><td class=\"avg-margin\">13.66</td><td class=\"luck-score\">-3</td></tr>\n",
      "    <tr><td class=\"year\">2024</td><td class=\"team\">Carter</td><td class=\"record\">10-4</td><td class=\"points-for\">1872.08</td><td class=\"points-against\">1654.36</td><td class=\"avg-points-for\">133.72</td><td class=\"avg-margin\">15.55</td><td class=\"luck-score\">-4</td></tr>\n",
      "    <tr><td class=\"year\">2024</td><td class=\"team\">Dante</td><td class=\"record\">10-4</td><td class=\"points-for\">1661.44</td><td class=\"points-against\">1557.08</td><td class=\"avg-points-for\">118.67</td><td class=\"avg-margin\">7.45</td><td class=\"luck-score\">8</td></tr>\n",
      "    <tr class=\"champ\"><td class=\"year\">2024</td><td class=\"team\">Zach</td><td class=\"record\">8-6</td><td class=\"points-for\">1762.04</td><td class=\"points-against\">1670.2</td><td class=\"avg-points-for\">125.86</td><td class=\"avg-margin\">6.56</td><td class=\"luck-score\">-5</td></tr>\n",
      "    <tr><td class=\"year\">2024</td><td class=\"team\">Noah</td><td class=\"record\">8-6</td><td class=\"points-for\">1608.14</td><td class=\"points-against\">1616.62</td><td class=\"avg-points-for\">114.87</td><td class=\"avg-margin\">-0.61</td><td class=\"luck-score\">3</td></tr>\n",
      "    <tr><td class=\"year\">2024</td><td class=\"team\">Tyler</td><td class=\"record\">8-6</td><td class=\"points-for\">1604.46</td><td class=\"points-against\">1565.22</td><td class=\"avg-points-for\">114.6</td><td class=\"avg-margin\">2.8</td><td class=\"luck-score\">6</td></tr>\n",
      "    <tr><td class=\"year\">2024</td><td class=\"team\">Ethan</td><td class=\"record\">7-7</td><td class=\"points-for\">1540.46</td><td class=\"points-against\">1707.74</td><td class=\"avg-points-for\">110.03</td><td class=\"avg-margin\">-11.95</td><td class=\"luck-score\">-1</td></tr>\n",
      "    <tr><td class=\"year\">2024</td><td class=\"team\">Nathan</td><td class=\"record\">5-9</td><td class=\"points-for\">1712.72</td><td class=\"points-against\">1682.0</td><td class=\"avg-points-for\">122.34</td><td class=\"avg-margin\">2.19</td><td class=\"luck-score\">-10</td></tr>\n",
      "    <tr><td class=\"year\">2024</td><td class=\"team\">Haris</td><td class=\"record\">3-11</td><td class=\"points-for\">1468.6</td><td class=\"points-against\">1616.88</td><td class=\"avg-points-for\">104.9</td><td class=\"avg-margin\">-10.59</td><td class=\"luck-score\">1</td></tr>\n",
      "    <tr><td class=\"year\">2024</td><td class=\"team\">Michael</td><td class=\"record\">2-12</td><td class=\"points-for\">1446.66</td><td class=\"points-against\">1721.52</td><td class=\"avg-points-for\">103.33</td><td class=\"avg-margin\">-19.63</td><td class=\"luck-score\">-7</td></tr>\n",
      "    <tr><td class=\"year\">2024</td><td class=\"team\">McGwire</td><td class=\"record\">2-12</td><td class=\"points-for\">1413.62</td><td class=\"points-against\">1698.4</td><td class=\"avg-points-for\">100.97</td><td class=\"avg-margin\">-20.34</td><td class=\"luck-score\">-4</td></tr>\n",
      "  </tbody>\n",
      "</table>\n"
     ]
    }
   ],
   "source": [
    "t = functions.df_to_table(\n",
    "    data=functions.summary_table(data=constants.GAME_DATA, year=2024),\n",
    "    custom_columns=['Year','Team','Record','Points For','Points Against','Avg Points For','Avg Margin','Luck Score'],\n",
    "    champ_class=True\n",
    ")\n",
    "\n",
    "print(t)"
   ]
  }
 ],
 "metadata": {
  "kernelspec": {
   "display_name": "Python 3",
   "language": "python",
   "name": "python3"
  },
  "language_info": {
   "codemirror_mode": {
    "name": "ipython",
    "version": 3
   },
   "file_extension": ".py",
   "mimetype": "text/x-python",
   "name": "python",
   "nbconvert_exporter": "python",
   "pygments_lexer": "ipython3",
   "version": "3.12.2"
  }
 },
 "nbformat": 4,
 "nbformat_minor": 5
}
